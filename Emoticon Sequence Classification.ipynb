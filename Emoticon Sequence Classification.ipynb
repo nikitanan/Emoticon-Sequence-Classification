{
 "cells": [
  {
   "cell_type": "code",
   "execution_count": 1,
   "id": "c5596719-824f-4a2a-8342-1d9ab7563854",
   "metadata": {},
   "outputs": [],
   "source": [
    "%%capture\n",
    "import numpy as np\n",
    "import pandas as pd\n",
    "import matplotlib.pyplot as plt\n",
    "from sklearn.linear_model import LogisticRegression\n",
    "from sklearn.ensemble import RandomForestClassifier\n",
    "from sklearn.model_selection import train_test_split, GridSearchCV\n",
    "from sklearn.preprocessing import StandardScaler\n",
    "from sklearn.metrics import accuracy_score\n",
    "!pip install xgboost\n",
    "import xgboost as xgb\n",
    "!pip install catboost\n",
    "\n",
    "from catboost import CatBoostClassifier\n",
    "!pip install lightgbm\n",
    "\n",
    "from lightgbm import LGBMClassifier\n",
    "from sklearn.tree import DecisionTreeClassifier\n",
    "from sklearn.ensemble import (ExtraTreesClassifier,\n",
    "                              GradientBoostingClassifier, AdaBoostClassifier)\n",
    "from sklearn.ensemble import VotingClassifier\n",
    "from sklearn.naive_bayes import GaussianNB\n",
    "from sklearn.decomposition import PCA "
   ]
  },
  {
   "cell_type": "code",
   "execution_count": 2,
   "id": "d745292a-6af8-4ab9-95d2-b2bd47bdcc13",
   "metadata": {},
   "outputs": [],
   "source": [
    "train_emoticon_df = pd.read_csv(\"train_emoticon.csv\")\n",
    "dummy = train_emoticon_df['input_emoticon'].tolist()\n",
    "train_Y = train_emoticon_df['label']\n",
    "\n",
    "# Load validation data\n",
    "valid_emoticon_df = pd.read_csv(\"valid_emoticon.csv\")\n",
    "valid_Y = valid_emoticon_df['label']\n",
    "\n",
    "# Load test data\n",
    "test_emoticon_df = pd.read_csv(\"test_emoticon.csv\")"
   ]
  },
  {
   "cell_type": "code",
   "execution_count": 3,
   "id": "cea617e9-2e09-46f9-95fd-4d46e9c639f4",
   "metadata": {},
   "outputs": [
    {
     "data": {
      "text/html": [
       "<div>\n",
       "<style scoped>\n",
       "    .dataframe tbody tr th:only-of-type {\n",
       "        vertical-align: middle;\n",
       "    }\n",
       "\n",
       "    .dataframe tbody tr th {\n",
       "        vertical-align: top;\n",
       "    }\n",
       "\n",
       "    .dataframe thead th {\n",
       "        text-align: right;\n",
       "    }\n",
       "</style>\n",
       "<table border=\"1\" class=\"dataframe\">\n",
       "  <thead>\n",
       "    <tr style=\"text-align: right;\">\n",
       "      <th></th>\n",
       "      <th>input_emoticon</th>\n",
       "      <th>label</th>\n",
       "    </tr>\n",
       "  </thead>\n",
       "  <tbody>\n",
       "    <tr>\n",
       "      <th>0</th>\n",
       "      <td>😛🛐😻😑😣🙠🙯🚼😒🙼😑🙯😣</td>\n",
       "      <td>0</td>\n",
       "    </tr>\n",
       "    <tr>\n",
       "      <th>1</th>\n",
       "      <td>🛐😑😪😛🚼🙯😣🚅😑🙯😹😣🙼</td>\n",
       "      <td>0</td>\n",
       "    </tr>\n",
       "    <tr>\n",
       "      <th>2</th>\n",
       "      <td>😛🙯😑🚡😣🚼🛐🙲😣🙯🛑😑🙼</td>\n",
       "      <td>0</td>\n",
       "    </tr>\n",
       "    <tr>\n",
       "      <th>3</th>\n",
       "      <td>😛🚼🛐🙐😣🙯😑🙪😑🙼🛆😣🙯</td>\n",
       "      <td>1</td>\n",
       "    </tr>\n",
       "    <tr>\n",
       "      <th>4</th>\n",
       "      <td>🛐🚟🚼😛🙋😑😣🙯😹🙯😑😣🙼</td>\n",
       "      <td>1</td>\n",
       "    </tr>\n",
       "  </tbody>\n",
       "</table>\n",
       "</div>"
      ],
      "text/plain": [
       "  input_emoticon  label\n",
       "0  😛🛐😻😑😣🙠🙯🚼😒🙼😑🙯😣      0\n",
       "1  🛐😑😪😛🚼🙯😣🚅😑🙯😹😣🙼      0\n",
       "2  😛🙯😑🚡😣🚼🛐🙲😣🙯🛑😑🙼      0\n",
       "3  😛🚼🛐🙐😣🙯😑🙪😑🙼🛆😣🙯      1\n",
       "4  🛐🚟🚼😛🙋😑😣🙯😹🙯😑😣🙼      1"
      ]
     },
     "execution_count": 3,
     "metadata": {},
     "output_type": "execute_result"
    }
   ],
   "source": [
    "train_emoticon_df.head()\n"
   ]
  },
  {
   "cell_type": "code",
   "execution_count": 4,
   "id": "e2f86129-2d80-48f1-b0b6-9d0adb1d64a5",
   "metadata": {},
   "outputs": [],
   "source": [
    "def preprocess_emoticons(emoticons):\n",
    "    return [[c for c in emoticon] for emoticon in emoticons]"
   ]
  },
  {
   "cell_type": "code",
   "execution_count": 5,
   "id": "352e7856-a420-49b5-b210-315d2e595879",
   "metadata": {},
   "outputs": [],
   "source": [
    "train_emoticon_X = pd.DataFrame(preprocess_emoticons(train_emoticon_df['input_emoticon']))\n",
    "valid_emoticon_X = pd.DataFrame(preprocess_emoticons(valid_emoticon_df['input_emoticon']))"
   ]
  },
  {
   "cell_type": "code",
   "execution_count": 6,
   "id": "52e2430e-cf22-40ff-bb8c-a03ec24e8ee9",
   "metadata": {},
   "outputs": [],
   "source": [
    "from sklearn.preprocessing import OneHotEncoder"
   ]
  },
  {
   "cell_type": "code",
   "execution_count": 7,
   "id": "cf4973aa-3adc-4c33-88e8-6b2b27ad82d2",
   "metadata": {},
   "outputs": [],
   "source": [
    "enc = OneHotEncoder(handle_unknown='ignore')\n",
    "\n",
    "# Fit on training data\n",
    "enc.fit(train_emoticon_X)\n",
    "\n",
    "# Transform train and validation data\n",
    "train_X = enc.transform(train_emoticon_X)\n",
    "valid_X = enc.transform(valid_emoticon_X)"
   ]
  },
  {
   "cell_type": "code",
   "execution_count": 8,
   "id": "ac110eed-8788-483c-81de-58ebba303162",
   "metadata": {},
   "outputs": [
    {
     "data": {
      "text/plain": [
       "(7080, 2159)"
      ]
     },
     "execution_count": 8,
     "metadata": {},
     "output_type": "execute_result"
    }
   ],
   "source": [
    "train_X.shape"
   ]
  },
  {
   "cell_type": "code",
   "execution_count": 9,
   "id": "98c3b4f2-cca5-478b-ada6-96e4a7bcbd98",
   "metadata": {},
   "outputs": [],
   "source": [
    "def tune_and_evaluate(model, param_grid):\n",
    "    grid_search = GridSearchCV(model, param_grid, cv=5, scoring='accuracy', n_jobs=-1)\n",
    "    grid_search.fit(train_X, train_Y)\n",
    "    best_model = grid_search.best_estimator_\n",
    "    valid_pred = best_model.predict(valid_X)\n",
    "    valid_acc = accuracy_score(valid_Y, valid_pred)\n",
    "    return grid_search.best_params_, valid_acc, best_model"
   ]
  },
  {
   "cell_type": "code",
   "execution_count": 10,
   "id": "3d6f4b62-1b80-4113-bf07-0b6347297a1a",
   "metadata": {},
   "outputs": [],
   "source": [
    "log_reg_param_grid = {\n",
    "    'C': [0.01, 0.1, 1, 10, 100],\n",
    "    'solver': ['newton-cg', 'lbfgs', 'liblinear', 'saga']\n",
    "}\n",
    "log_reg = LogisticRegression(max_iter=5000)\n",
    "log_reg_params, log_reg_acc, best_log_reg = tune_and_evaluate(log_reg, log_reg_param_grid)"
   ]
  },
  {
   "cell_type": "code",
   "execution_count": 11,
   "id": "7c5d1e93-6323-4477-9bd6-468583ec6c17",
   "metadata": {},
   "outputs": [
    {
     "name": "stdout",
     "output_type": "stream",
     "text": [
      "0.9161554192229039\n",
      "{'C': 100, 'solver': 'lbfgs'}\n"
     ]
    }
   ],
   "source": [
    "print(log_reg_acc)\n",
    "print(log_reg_params)"
   ]
  },
  {
   "cell_type": "code",
   "execution_count": 12,
   "id": "206a13cb-dc6a-432f-b124-522aa35d1e35",
   "metadata": {},
   "outputs": [],
   "source": [
    "from sklearn.svm import SVC\n",
    "svm_param_grid = {\n",
    "    'C': [0.1, 1, 10],\n",
    "    'kernel': ['linear', 'rbf', 'poly']  }\n",
    "svm_model = SVC()\n",
    "svm_params, svm_acc, best_svm_model = tune_and_evaluate(svm_model, svm_param_grid)"
   ]
  },
  {
   "cell_type": "code",
   "execution_count": 13,
   "id": "a49d3a5a-9934-423d-9460-d465377fcb66",
   "metadata": {},
   "outputs": [
    {
     "name": "stdout",
     "output_type": "stream",
     "text": [
      "0.8916155419222904\n",
      "{'C': 10, 'kernel': 'linear'}\n"
     ]
    }
   ],
   "source": [
    "print(svm_acc)\n",
    "print(svm_params)"
   ]
  },
  {
   "cell_type": "code",
   "execution_count": 14,
   "id": "caa3df93-632b-4aba-9fba-be75125cf665",
   "metadata": {},
   "outputs": [],
   "source": [
    "from sklearn.neighbors import KNeighborsClassifier\n"
   ]
  },
  {
   "cell_type": "code",
   "execution_count": 15,
   "id": "e960a977-1c04-4677-9d2c-8a6e586b300f",
   "metadata": {},
   "outputs": [],
   "source": [
    "knn_param_grid = {\n",
    "    'n_neighbors': [1,5,10,15],\n",
    "    'weights' : ['uniform','distance']\n",
    "}\n",
    "knn = KNeighborsClassifier()\n",
    "knn_params, knn_acc, knn_model = tune_and_evaluate(knn, knn_param_grid)"
   ]
  },
  {
   "cell_type": "code",
   "execution_count": 16,
   "id": "66665dcb-6cb1-45fb-837a-fbeb346e1738",
   "metadata": {},
   "outputs": [
    {
     "name": "stdout",
     "output_type": "stream",
     "text": [
      "0.5480572597137015\n",
      "{'n_neighbors': 10, 'weights': 'uniform'}\n"
     ]
    }
   ],
   "source": [
    "print(knn_acc)\n",
    "print(knn_params)"
   ]
  },
  {
   "cell_type": "code",
   "execution_count": 17,
   "id": "a7928b9c-94c3-43da-b3be-4e7f19aa46eb",
   "metadata": {},
   "outputs": [],
   "source": [
    "from sklearn.neighbors import RadiusNeighborsClassifier\n"
   ]
  },
  {
   "cell_type": "code",
   "execution_count": 18,
   "id": "09d03dd8-5b74-4220-9a28-e5973bd29c4d",
   "metadata": {},
   "outputs": [
    {
     "name": "stderr",
     "output_type": "stream",
     "text": [
      "C:\\Users\\nikit\\AppData\\Local\\Programs\\Python\\Python312\\Lib\\site-packages\\sklearn\\model_selection\\_search.py:1135: UserWarning: One or more of the test scores are non-finite: [       nan        nan 0.5079096  0.51016949 0.50508475 0.50508475\n",
      " 0.50508475 0.50508475]\n",
      "  warnings.warn(\n"
     ]
    }
   ],
   "source": [
    "enn_param_grid = {\n",
    "    'radius' : [1.0, 5.0 , 10.0 ,15.0 ],\n",
    "    'weights' : ['uniform', 'distance']\n",
    "}\n",
    "enn = RadiusNeighborsClassifier()\n",
    "enn_params, enn_acc, enn_model = tune_and_evaluate(enn, enn_param_grid)"
   ]
  },
  {
   "cell_type": "code",
   "execution_count": 19,
   "id": "a681f75b-34a6-4f76-b3c0-db8f6168e953",
   "metadata": {},
   "outputs": [
    {
     "name": "stdout",
     "output_type": "stream",
     "text": [
      "0.5194274028629857\n",
      "{'radius': 5.0, 'weights': 'distance'}\n"
     ]
    }
   ],
   "source": [
    "print(enn_acc)\n",
    "print(enn_params)"
   ]
  },
  {
   "cell_type": "code",
   "execution_count": 20,
   "id": "625f8838-13f1-467c-84fd-5e86671f1614",
   "metadata": {},
   "outputs": [],
   "source": [
    "xgb_param_grid = {\n",
    "    'max_depth': [3, 5, 7],\n",
    "    'learning_rate': [0.01, 0.1, 0.2],\n",
    "    'n_estimators': [100, 200, 300]\n",
    "}\n",
    "xgb_model = xgb.XGBClassifier(eval_metric='mlogloss')\n",
    "xgb_params, xgb_acc, best_xgb_model = tune_and_evaluate(xgb_model, xgb_param_grid)"
   ]
  },
  {
   "cell_type": "code",
   "execution_count": 21,
   "id": "4ef0a1b1-c327-4705-978d-b2c58006a986",
   "metadata": {},
   "outputs": [
    {
     "name": "stdout",
     "output_type": "stream",
     "text": [
      "0.7995910020449898\n",
      "{'learning_rate': 0.2, 'max_depth': 7, 'n_estimators': 300}\n"
     ]
    }
   ],
   "source": [
    "print(xgb_acc)\n",
    "print(xgb_params)"
   ]
  },
  {
   "cell_type": "code",
   "execution_count": 22,
   "id": "f0bf6b58-7d4d-4fd6-a9fb-ecbf96f76f3b",
   "metadata": {},
   "outputs": [],
   "source": [
    "rf_param_grid = {\n",
    "    'n_estimators': [100, 200],\n",
    "    'max_depth': [None, 10],\n",
    "    'min_samples_split': [2, 5]\n",
    "}\n",
    "rf_model = RandomForestClassifier()\n",
    "rf_params, rf_acc, best_rf_model = tune_and_evaluate(rf_model, rf_param_grid)"
   ]
  },
  {
   "cell_type": "code",
   "execution_count": 23,
   "id": "76cd0eaf-cfb6-4ddc-a149-ce2ce5312029",
   "metadata": {},
   "outputs": [
    {
     "name": "stdout",
     "output_type": "stream",
     "text": [
      "0.852760736196319\n",
      "{'max_depth': None, 'min_samples_split': 5, 'n_estimators': 200}\n"
     ]
    }
   ],
   "source": [
    "print(rf_acc)\n",
    "print(rf_params)"
   ]
  },
  {
   "cell_type": "code",
   "execution_count": 24,
   "id": "ad9322f3-6f8e-4e3b-af00-d052a7ca01bd",
   "metadata": {},
   "outputs": [],
   "source": [
    "extra_trees_param_grid = {\n",
    "    'n_estimators': [100, 200],\n",
    "    'max_depth': [None, 10, 20],\n",
    "    'min_samples_split': [2, 5]\n",
    "}\n",
    "extra_trees_model = ExtraTreesClassifier()\n",
    "extra_trees_params, extra_trees_acc, best_extra_trees_model = tune_and_evaluate(extra_trees_model, extra_trees_param_grid)"
   ]
  },
  {
   "cell_type": "code",
   "execution_count": 25,
   "id": "9cccd9e3-44ae-4bb7-a0c0-0de7c7945844",
   "metadata": {},
   "outputs": [
    {
     "name": "stdout",
     "output_type": "stream",
     "text": [
      "0.8548057259713702\n",
      "{'max_depth': None, 'min_samples_split': 5, 'n_estimators': 200}\n"
     ]
    }
   ],
   "source": [
    "print(extra_trees_acc)\n",
    "print(extra_trees_params)"
   ]
  },
  {
   "cell_type": "code",
   "execution_count": 26,
   "id": "a9b119e0-fcb3-487e-a7a7-555b4b0499ec",
   "metadata": {},
   "outputs": [
    {
     "name": "stdout",
     "output_type": "stream",
     "text": [
      "0.8916155419222904\n"
     ]
    }
   ],
   "source": [
    "from sklearn.neural_network import MLPClassifier\n",
    "\n",
    "mlp = MLPClassifier(hidden_layer_sizes=(128, 64),activation='tanh',learning_rate='adaptive', learning_rate_init=0.001, max_iter=1000)\n",
    "mlp.fit(train_X, train_Y)\n",
    "print(mlp.score(valid_X, valid_Y))\n"
   ]
  },
  {
   "cell_type": "code",
   "execution_count": 27,
   "id": "e863c9fd-6967-4e4c-8bf1-aa1b2a3e3324",
   "metadata": {},
   "outputs": [],
   "source": [
    "from sklearn.ensemble import StackingClassifier\n",
    "from sklearn.linear_model import LogisticRegression\n",
    "from sklearn.model_selection import cross_val_score"
   ]
  },
  {
   "cell_type": "code",
   "execution_count": 35,
   "id": "6cc51e15-d7f3-4a26-b7a6-1456194ce980",
   "metadata": {},
   "outputs": [],
   "source": [
    "base_models = [\n",
    "    ('logreg', best_log_reg),\n",
    "    ('svm',best_svm_model),\n",
    "    ('rf', best_rf_model),\n",
    "    ('extra_trees',best_extra_trees_model),\n",
    "    ('mlp', mlp)\n",
    "]"
   ]
  },
  {
   "cell_type": "code",
   "execution_count": 37,
   "id": "7962a21e-0b64-456d-9a9a-a6b4ebbaa238",
   "metadata": {},
   "outputs": [
    {
     "name": "stdout",
     "output_type": "stream",
     "text": [
      "Validation Accuracy (Stacking): 0.9202\n"
     ]
    }
   ],
   "source": [
    "meta_learner = LogisticRegression()\n",
    "stacking_clf = StackingClassifier(estimators=base_models, final_estimator=meta_learner)\n",
    "stacking_clf.fit(train_X, train_Y)\n",
    "stacking_pred = stacking_clf.predict(valid_X)\n",
    "stacking_acc = accuracy_score(valid_Y, stacking_pred)\n",
    "\n",
    "print(f\"Validation Accuracy (Stacking): {stacking_acc:.4f}\")"
   ]
  },
  {
   "cell_type": "code",
   "execution_count": 38,
   "id": "2a9c612c-9025-49e9-ab2d-d4c1afefc06c",
   "metadata": {},
   "outputs": [
    {
     "data": {
      "text/plain": [
       "array([1, 1, 0, 0, 1, 1, 1, 0, 0, 1, 0, 1, 1, 1, 0, 0, 1, 1, 1, 0, 0, 1,\n",
       "       0, 0, 0, 0, 0, 1, 0, 1, 0, 1, 0, 0, 0, 1, 0, 1, 1, 1, 0, 1, 0, 1,\n",
       "       1, 1, 0, 1, 1, 1, 0, 1, 0, 1, 1, 0, 0, 1, 1, 1, 1, 0, 1, 0, 0, 0,\n",
       "       0, 1, 1, 1, 0, 0, 1, 1, 1, 0, 0, 0, 0, 1, 1, 1, 0, 1, 0, 1, 1, 1,\n",
       "       1, 0, 0, 1, 0, 1, 1, 1, 1, 1, 1, 0, 1, 0, 0, 0, 1, 0, 1, 1, 1, 1,\n",
       "       1, 1, 1, 1, 1, 1, 0, 0, 1, 0, 1, 1, 0, 0, 0, 0, 0, 0, 0, 0, 0, 0,\n",
       "       0, 1, 0, 0, 0, 0, 0, 1, 1, 1, 1, 1, 1, 0, 0, 0, 0, 1, 0, 1, 0, 1,\n",
       "       1, 1, 0, 1, 0, 1, 1, 1, 0, 1, 1, 1, 0, 1, 1, 0, 1, 0, 0, 0, 1, 1,\n",
       "       1, 0, 1, 1, 1, 1, 1, 0, 0, 0, 1, 0, 1, 0, 1, 1, 1, 1, 1, 1, 0, 0,\n",
       "       1, 0, 1, 1, 0, 0, 1, 1, 0, 0, 0, 1, 0, 0, 1, 1, 1, 1, 0, 0, 1, 0,\n",
       "       1, 0, 0, 1, 1, 1, 1, 1, 0, 1, 0, 1, 1, 0, 1, 0, 0, 0, 1, 0, 0, 1,\n",
       "       0, 1, 0, 1, 0, 0, 0, 1, 0, 0, 1, 0, 0, 0, 1, 1, 0, 0, 0, 1, 0, 0,\n",
       "       1, 0, 1, 1, 1, 0, 0, 0, 0, 0, 0, 0, 1, 0, 0, 0, 0, 1, 0, 0, 0, 0,\n",
       "       0, 0, 1, 0, 0, 0, 1, 0, 1, 1, 1, 0, 1, 0, 0, 0, 1, 1, 1, 1, 1, 0,\n",
       "       0, 1, 0, 1, 1, 0, 0, 0, 0, 1, 0, 1, 0, 0, 0, 0, 1, 0, 1, 0, 1, 1,\n",
       "       1, 1, 0, 0, 1, 0, 0, 0, 1, 0, 1, 0, 1, 1, 1, 0, 1, 0, 0, 0, 1, 1,\n",
       "       1, 0, 0, 1, 1, 0, 1, 0, 0, 1, 0, 1, 1, 0, 1, 0, 1, 0, 0, 0, 0, 1,\n",
       "       1, 0, 1, 1, 0, 1, 0, 1, 0, 1, 0, 0, 1, 1, 0, 1, 1, 0, 0, 0, 0, 1,\n",
       "       0, 0, 1, 0, 1, 1, 0, 1, 1, 0, 1, 0, 1, 1, 1, 1, 1, 0, 0, 0, 0, 0,\n",
       "       1, 1, 0, 0, 1, 0, 1, 1, 0, 1, 1, 1, 0, 0, 1, 1, 0, 0, 1, 1, 0, 0,\n",
       "       1, 0, 1, 1, 1, 1, 0, 1, 0, 0, 1, 0, 0, 1, 0, 1, 0, 0, 0, 0, 1, 1,\n",
       "       1, 0, 1, 0, 0, 1, 1, 1, 1, 1, 0, 1, 0, 1, 0, 1, 1, 1, 1, 1, 1, 1,\n",
       "       1, 0, 0, 0, 0])"
      ]
     },
     "execution_count": 38,
     "metadata": {},
     "output_type": "execute_result"
    }
   ],
   "source": [
    "stacking_pred"
   ]
  },
  {
   "cell_type": "code",
   "execution_count": 39,
   "id": "b8306668-d07b-4a7d-b7f6-1b906b830151",
   "metadata": {},
   "outputs": [],
   "source": [
    "from sklearn.ensemble import VotingClassifier"
   ]
  },
  {
   "cell_type": "code",
   "execution_count": 40,
   "id": "27b5b304-fc74-44ad-a432-4a80a47dfc64",
   "metadata": {},
   "outputs": [],
   "source": [
    "voting_clf = VotingClassifier(estimators=[\n",
    "    ('logreg', best_log_reg),\n",
    "    ('svm',best_svm_model),\n",
    "    ('rf', best_rf_model),\n",
    "    ('extra_trees',best_extra_trees_model),\n",
    "    ('mlp', mlp),\n",
    "], voting='hard')"
   ]
  },
  {
   "cell_type": "code",
   "execution_count": 41,
   "id": "e70c38af-847c-4d8a-8b7b-708153e15104",
   "metadata": {},
   "outputs": [
    {
     "name": "stdout",
     "output_type": "stream",
     "text": [
      "Validation Accuracy (Voting Classifier): 0.9202\n"
     ]
    }
   ],
   "source": [
    "voting_clf.fit(train_X, train_Y)\n",
    "voting_pred = voting_clf.predict(valid_X)\n",
    "voting_acc = accuracy_score(valid_Y, voting_pred)\n",
    "\n",
    "print(f\"Validation Accuracy (Voting Classifier): {voting_acc:.4f}\")"
   ]
  },
  {
   "cell_type": "code",
   "execution_count": 42,
   "id": "4e0fdbcc-7355-4852-baad-265f49563d4f",
   "metadata": {},
   "outputs": [],
   "source": [
    "train_percentages = [0.2, 0.4, 0.6, 0.8, 1.0]\n",
    "\n",
    "def plot_accuracy_vs_data(model, name, color):\n",
    "    results = []\n",
    "    for pct in train_percentages:\n",
    "      if pct == 1.0:\n",
    "        model.fit(train_X, train_Y)\n",
    "        valid_pred = model.predict(valid_X)\n",
    "        acc = accuracy_score(valid_Y, valid_pred)\n",
    "        results.append(acc)\n",
    "      else:\n",
    "        train_X_subset, _, train_Y_subset, _ = train_test_split(train_X, train_Y, train_size=pct, random_state=42)\n",
    "        model.fit(train_X_subset, train_Y_subset)\n",
    "        valid_pred = model.predict(valid_X)\n",
    "        acc = accuracy_score(valid_Y, valid_pred)\n",
    "        results.append(acc)\n",
    "    plt.plot([p * 100 for p in train_percentages], results, marker='o', label=name,c=color)"
   ]
  },
  {
   "cell_type": "code",
   "execution_count": 45,
   "id": "8c4cb627-d765-44be-b58f-e71cfba25767",
   "metadata": {},
   "outputs": [
    {
     "data": {
      "image/png": "[encoded data removed]",
      "text/plain": [
       "<Figure size 1000x600 with 1 Axes>"
      ]
     },
     "metadata": {},
     "output_type": "display_data"
    }
   ],
   "source": [
    "from matplotlib.pyplot import cm\n",
    "plt.figure(figsize=(10, 6))\n",
    "color = iter(cm.rainbow(np.linspace(0, 1, 14)))\n",
    "c = next(color)\n",
    "plot_accuracy_vs_data(best_log_reg, 'Logistic Regression', c)\n",
    "c = next(color)\n",
    "plot_accuracy_vs_data(best_xgb_model, 'XGBoost', c)\n",
    "c = next(color)\n",
    "plot_accuracy_vs_data(best_rf_model, 'Random Forest', c)\n",
    "c = next(color)\n",
    "\n",
    "plot_accuracy_vs_data(best_svm_model, 'SVM', c)\n",
    "c = next(color)\n",
    "\n",
    "plot_accuracy_vs_data(knn_model, 'KNN', c)\n",
    "c = next(color)\n",
    "plot_accuracy_vs_data(enn_model, 'ENN', c)\n",
    "c = next(color)\n",
    "\n",
    "plot_accuracy_vs_data(best_extra_trees_model, 'Extra Trees', c)\n",
    "c = next(color)\n",
    "plot_accuracy_vs_data(mlp, 'MLP', c)\n",
    "c = next(color)\n",
    "plt.xlabel(\"Percentage of Training Data (%)\")\n",
    "plt.ylabel(\"Validation Accuracy\")\n",
    "plt.title(\"Validation Accuracy vs Training Data Percentage\")\n",
    "plt.legend()\n",
    "plt.show()"
   ]
  },
  {
   "cell_type": "code",
   "execution_count": 47,
   "id": "24423fdf-6220-4699-9533-0e5b128ec6c1",
   "metadata": {},
   "outputs": [
    {
     "data": {
      "text/html": [
       "<div>\n",
       "<style scoped>\n",
       "    .dataframe tbody tr th:only-of-type {\n",
       "        vertical-align: middle;\n",
       "    }\n",
       "\n",
       "    .dataframe tbody tr th {\n",
       "        vertical-align: top;\n",
       "    }\n",
       "\n",
       "    .dataframe thead th {\n",
       "        text-align: right;\n",
       "    }\n",
       "</style>\n",
       "<table border=\"1\" class=\"dataframe\">\n",
       "  <thead>\n",
       "    <tr style=\"text-align: right;\">\n",
       "      <th></th>\n",
       "      <th>Model</th>\n",
       "      <th>Validation Accuracy</th>\n",
       "    </tr>\n",
       "  </thead>\n",
       "  <tbody>\n",
       "    <tr>\n",
       "      <th>0</th>\n",
       "      <td>Logistic Regression</td>\n",
       "      <td>0.916155</td>\n",
       "    </tr>\n",
       "    <tr>\n",
       "      <th>7</th>\n",
       "      <td>MLP</td>\n",
       "      <td>0.893661</td>\n",
       "    </tr>\n",
       "    <tr>\n",
       "      <th>3</th>\n",
       "      <td>SVM</td>\n",
       "      <td>0.891616</td>\n",
       "    </tr>\n",
       "    <tr>\n",
       "      <th>6</th>\n",
       "      <td>Extra Trees</td>\n",
       "      <td>0.854806</td>\n",
       "    </tr>\n",
       "    <tr>\n",
       "      <th>2</th>\n",
       "      <td>Random Forest</td>\n",
       "      <td>0.852761</td>\n",
       "    </tr>\n",
       "    <tr>\n",
       "      <th>1</th>\n",
       "      <td>XGBoost</td>\n",
       "      <td>0.799591</td>\n",
       "    </tr>\n",
       "    <tr>\n",
       "      <th>4</th>\n",
       "      <td>KNN</td>\n",
       "      <td>0.548057</td>\n",
       "    </tr>\n",
       "    <tr>\n",
       "      <th>5</th>\n",
       "      <td>ENN</td>\n",
       "      <td>0.519427</td>\n",
       "    </tr>\n",
       "  </tbody>\n",
       "</table>\n",
       "</div>"
      ],
      "text/plain": [
       "                 Model  Validation Accuracy\n",
       "0  Logistic Regression             0.916155\n",
       "7                  MLP             0.893661\n",
       "3                  SVM             0.891616\n",
       "6          Extra Trees             0.854806\n",
       "2        Random Forest             0.852761\n",
       "1              XGBoost             0.799591\n",
       "4                  KNN             0.548057\n",
       "5                  ENN             0.519427"
      ]
     },
     "execution_count": 47,
     "metadata": {},
     "output_type": "execute_result"
    }
   ],
   "source": [
    "models_comparison = pd.DataFrame({\n",
    "    'Model': ['Logistic Regression', 'XGBoost', 'Random Forest','SVM', 'KNN','ENN','Extra Trees','MLP'],\n",
    "    'Validation Accuracy': [log_reg_acc, xgb_acc, rf_acc,  svm_acc,  knn_acc, enn_acc,  extra_trees_acc,  mlp.score(valid_X, valid_Y)],\n",
    "})\n",
    "\n",
    "models_comparison.sort_values(by = 'Validation Accuracy', ascending = False)"
   ]
  },
  {
   "cell_type": "code",
   "execution_count": null,
   "id": "6a0c7f4e-4c03-4a66-a72b-b525ef1603aa",
   "metadata": {},
   "outputs": [],
   "source": []
  }
 ],
 "metadata": {
  "kernelspec": {
   "display_name": "Python 3 (ipykernel)",
   "language": "python",
   "name": "python3"
  },
  "language_info": {
   "codemirror_mode": {
    "name": "ipython",
    "version": 3
   },
   "file_extension": ".py",
   "mimetype": "text/x-python",
   "name": "python",
   "nbconvert_exporter": "python",
   "pygments_lexer": "ipython3",
   "version": "3.12.3"
  }
 },
 "nbformat": 4,
 "nbformat_minor": 5
}
